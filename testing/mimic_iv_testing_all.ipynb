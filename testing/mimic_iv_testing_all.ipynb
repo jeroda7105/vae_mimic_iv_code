{
 "cells": [
  {
   "cell_type": "code",
   "execution_count": null,
   "metadata": {
    "id": "0DsFARgE0MOh"
   },
   "outputs": [],
   "source": [
    "from datetime import datetime, timedelta\n",
    "\n",
    "import os\n",
    "import random\n",
    "import numpy as np\n",
    "import pandas as pd\n",
    "import matplotlib.pyplot as plt\n",
    "from sklearn.metrics import mean_squared_error as mse\n",
    "\n",
    "import tensorflow as tf\n",
    "from tensorflow.keras.layers import *\n",
    "from tensorflow.keras.models import *\n",
    "from tensorflow.keras.optimizers import *\n",
    "from tensorflow.keras import backend as K\n",
    "from tensorflow.keras.callbacks import EarlyStopping\n",
    "\n",
    "\n",
    "from utils import *\n",
    "from models import *"
   ]
  },
  {
   "cell_type": "code",
   "execution_count": null,
   "metadata": {
    "id": "QwocLnbR-p9h"
   },
   "outputs": [],
   "source": [
    "os.environ[\"CUDA_VISIBLE_DEVICES\"]=\"\""
   ]
  },
  {
   "cell_type": "code",
   "execution_count": null,
   "metadata": {
    "colab": {
     "base_uri": "https://localhost:8080/",
     "height": 438
    },
    "id": "4jqZLo8J1VcH",
    "outputId": "0e02ae17-665e-499b-d17c-b1f32542a4a0"
   },
   "outputs": [],
   "source": [
    "# Importing Time Series Data\n",
    "\n",
    "# Data by the hour\n",
    "first_48_data = pd.read_csv('../../../../data/datasets/mimiciv_timeseries/mimiciv_timeseries.csv')\n",
    "\n",
    "\n",
    "first_48_data.head()"
   ]
  },
  {
   "cell_type": "code",
   "execution_count": null,
   "metadata": {
    "colab": {
     "base_uri": "https://localhost:8080/",
     "height": 523
    },
    "id": "6CcBAvNK-p9j",
    "outputId": "43a34369-9b8d-4d4f-a451-4184e18048c6"
   },
   "outputs": [],
   "source": [
    "first_48_data = convert_to_nan(first_48_data)"
   ]
  },
  {
   "cell_type": "code",
   "execution_count": null,
   "metadata": {
    "colab": {
     "base_uri": "https://localhost:8080/",
     "height": 377
    },
    "id": "Y9z5-fNz-p9k",
    "outputId": "ca05b17e-590a-4237-81fa-d27a9636dc50"
   },
   "outputs": [],
   "source": [
    "# Reading label data\n",
    "\n",
    "label_data = pd.read_csv('mimic_iv_label_data.csv')\n",
    "label_data.head()"
   ]
  },
  {
   "cell_type": "code",
   "execution_count": null,
   "metadata": {
    "id": "DoqGQrGl-p9k",
    "outputId": "f178a90f-20f0-4f0c-8c76-25bd34b73881"
   },
   "outputs": [],
   "source": [
    "# Reading patient clusters\n",
    "\n",
    "patient_clusters = pd.read_csv('mimic_iv_patient_clusters.csv')\n",
    "patient_clusters.head()"
   ]
  },
  {
   "cell_type": "code",
   "execution_count": null,
   "metadata": {
    "id": "8yeXbSiF-p9k"
   },
   "outputs": [],
   "source": [
    "# adding column for subject_id and episode_num\n",
    "\n",
    "subject_w_ep = first_48_data['subject']\n",
    "\n",
    "subject_ids = subject_w_ep.apply(lambda x: int(x.split('_')[0]))\n",
    "episode_nums = subject_w_ep.apply(lambda x: int(x.split('_')[1][7:]))"
   ]
  },
  {
   "cell_type": "code",
   "execution_count": null,
   "metadata": {
    "id": "Z_wZmqDX-p9l",
    "outputId": "be1ba51d-0e05-411c-c8fc-4fc0b37bc16d"
   },
   "outputs": [],
   "source": [
    "first_48_data['subject_id'] = subject_ids\n",
    "first_48_data['episode_num'] = episode_nums\n",
    "\n",
    "first_48_data.head()"
   ]
  },
  {
   "cell_type": "code",
   "execution_count": null,
   "metadata": {
    "id": "pET4PBlf-p9l"
   },
   "outputs": [],
   "source": [
    "first_48_data.rename(columns={\"time(hr)\": \"Hours\"}, inplace=True)"
   ]
  },
  {
   "cell_type": "code",
   "execution_count": null,
   "metadata": {
    "id": "IBM9yMkm-p9m",
    "outputId": "7efb9d5a-6d1d-42c3-8927-a1a3280bfd94"
   },
   "outputs": [],
   "source": [
    "# Merging data with labels and cluster to get correct sample\n",
    "\n",
    "first_48_data = first_48_data.merge(label_data, on=['subject', 'subject_id', 'episode_num'])\n",
    "first_48_data = first_48_data.merge(patient_clusters, on='subject_id')\n",
    "\n",
    "first_48_data.head()"
   ]
  },
  {
   "cell_type": "code",
   "execution_count": null,
   "metadata": {
    "id": "U7mmPqCb-p9m"
   },
   "outputs": [],
   "source": [
    "# keeping 'Unnamed: 0_x' and renaming to 'original_idx' to retain original indexes\n",
    "first_48_data = first_48_data.drop(columns=['Unnamed: 0_y', 'Unnamed: 0'])\n",
    "\n",
    "first_48_data = first_48_data.rename(columns={'Unnamed: 0_x': 'original_idx'})"
   ]
  },
  {
   "cell_type": "code",
   "execution_count": null,
   "metadata": {
    "id": "026_Ox-Y-p9n",
    "outputId": "a950d6f5-d19d-4f3e-df4c-9b33c1d78d2a"
   },
   "outputs": [],
   "source": [
    "first_48_data.head()"
   ]
  },
  {
   "cell_type": "code",
   "execution_count": null,
   "metadata": {
    "colab": {
     "base_uri": "https://localhost:8080/"
    },
    "id": "Vx7GR50X1onC",
    "outputId": "9e9b88e1-d8d5-44a9-b635-237fbfc0bfd7"
   },
   "outputs": [],
   "source": [
    "# Grouping by admission\n",
    "\n",
    "data = first_48_data.groupby('subject')\n",
    "print(len(data))"
   ]
  },
  {
   "cell_type": "code",
   "execution_count": null,
   "metadata": {
    "colab": {
     "base_uri": "https://localhost:8080/",
     "height": 523
    },
    "id": "cuve4-08-p9o",
    "outputId": "33038025-fc06-4ef0-c00e-c8e36e1dd2b8"
   },
   "outputs": [],
   "source": [
    "X, y = create_time_series_data(data)"
   ]
  },
  {
   "cell_type": "code",
   "execution_count": null,
   "metadata": {
    "colab": {
     "base_uri": "https://localhost:8080/"
    },
    "id": "mi4GN6L19-81",
    "outputId": "23b23ed0-7626-4cb4-ee7d-ea3ab49c6389"
   },
   "outputs": [],
   "source": [
    "X = extract_obs_seq(X)"
   ]
  },
  {
   "cell_type": "code",
   "execution_count": null,
   "metadata": {
    "colab": {
     "base_uri": "https://localhost:8080/",
     "height": 206
    },
    "id": "VdMpwHvc-DNU",
    "outputId": "750f47c0-d7ed-4c3c-ce1d-c38fca61b6ef"
   },
   "outputs": [],
   "source": [
    "y = y.loc[idxs]\n",
    "y.head()"
   ]
  },
  {
   "cell_type": "code",
   "execution_count": null,
   "metadata": {
    "id": "T2z9KMmI1tVF"
   },
   "outputs": [],
   "source": [
    "from sklearn.model_selection import train_test_split\n",
    "\n",
    "random_seed = 33\n",
    "\n",
    "X_train, X_test, y_train, y_test = train_test_split(X, y, test_size=0.2, random_state=random_seed)\n",
    "X_train_minmax, X_test_minmax, y_train_minmax, y_test_minmax = train_test_split(X, y, test_size=0.2, random_state=random_seed)\n"
   ]
  },
  {
   "cell_type": "code",
   "execution_count": null,
   "metadata": {
    "colab": {
     "base_uri": "https://localhost:8080/"
    },
    "id": "5TsOvGDg-p9p",
    "outputId": "3ffc5bb7-8883-410b-8b2a-e78b649cc44b"
   },
   "outputs": [],
   "source": [
    "# Standardizing the data\n",
    "\n",
    "X, X_train, X_test, scalers = create_std_data(X, X_train, X_test)\n",
    "\n",
    "# Minmax Standardizing the data\n",
    "\n",
    "X_train_minmax, X_test_minmax, train_minmax_scalers = create_minmax_data(X_train_minmax, X_test_minmax)\n",
    "    \n",
    "    "
   ]
  },
  {
   "cell_type": "code",
   "execution_count": null,
   "metadata": {},
   "outputs": [],
   "source": [
    "# Getting the means of each feature for each data set\n",
    "\n",
    "all_feature_means = get_feature_means(X)\n",
    "train_feature_means = get_feature_means(X_train)\n",
    "test_feature_means = get_feature_means(X_test)\n",
    "\n",
    "\n",
    "train_feature_means_minmax = get_feature_means(X_train_minmax)\n",
    "test_feature_means_minmax  = get_feature_means(X_test_minmax)"
   ]
  },
  {
   "cell_type": "code",
   "execution_count": null,
   "metadata": {
    "id": "iComzTNR4cbF"
   },
   "outputs": [],
   "source": [
    "X_train_mean_imputed, X_test_mean_imputed = create_mean_imputed_data(X_train_minmax, X_test_minmax, \n",
    "                                                                     train_feature_means_minmax, train_feature_means_minmax)"
   ]
  },
  {
   "cell_type": "code",
   "execution_count": null,
   "metadata": {
    "id": "xRwIrvuZ-M8W"
   },
   "outputs": [],
   "source": [
    "miss_forest_imputer = get_miss_forest_imputer(X_train_minmax)"
   ]
  },
  {
   "cell_type": "code",
   "execution_count": null,
   "metadata": {},
   "outputs": [],
   "source": [
    "X_train_mf_imputed, X_test_mf_imputed = create_mf_imputed_data(X_train_minmax, X_test_minmax, miss_forest_imputer)"
   ]
  },
  {
   "cell_type": "code",
   "execution_count": null,
   "metadata": {
    "id": "HPBch8O_5uFF"
   },
   "outputs": [],
   "source": [
    "processed_X_train, processed_X_test, train_mask, test_mask = vae_preprocessing(X_train_minmax, X_test_minmax)"
   ]
  },
  {
   "cell_type": "code",
   "execution_count": null,
   "metadata": {
    "colab": {
     "base_uri": "https://localhost:8080/"
    },
    "id": "ZhSubm4Lfm4J",
    "outputId": "cebf73c0-8259-4dbc-dde2-b1a52682a046"
   },
   "outputs": [],
   "source": [
    "cnn_vae_instance = cnn_vae(n_filters=32, kernel_size=5, learning_rate=1e-4, \n",
    "                                    sequence_length=48, n_features=48)\n",
    "\n",
    "\n",
    "cnn_vae_model = cnn_vae_instance.get_model()\n",
    "\n",
    "trained_cnn_vae_model, cnn_reconstruc_train, cnn_reconstruc_test = train_eval_vae_model(cnn_vae_model, \n",
    "                                                processed_X_train, processed_X_test, train_mask, test_mask, 1)\n",
    "\n"
   ]
  },
  {
   "cell_type": "code",
   "execution_count": null,
   "metadata": {
    "colab": {
     "base_uri": "https://localhost:8080/"
    },
    "id": "A6x6arDB9o6E",
    "outputId": "002eb62c-63d0-4237-a464-7e2e19b07b5f"
   },
   "outputs": [],
   "source": [
    "lstm_vae_instance = lstm_vae(n_filters=32, kernel_size=5, learning_rate=1e-4, \n",
    "                                    sequence_length=48, n_features=48)\n",
    "\n",
    "\n",
    "lstm_vae_model = lstm_vae_instance.get_model()\n",
    "\n",
    "trained_lstm_vae_model, lstm_reconstruc_train, lstm_reconstruc_test = train_eval_vae_model(lstm_vae_model, \n",
    "                                                processed_X_train, processed_X_test, train_mask, test_mask, 1)\n",
    "\n"
   ]
  },
  {
   "cell_type": "code",
   "execution_count": null,
   "metadata": {},
   "outputs": [],
   "source": [
    "X_train_w_noise = create_X_train_w_noise(X_train_minmax, 0.2)"
   ]
  },
  {
   "cell_type": "code",
   "execution_count": null,
   "metadata": {},
   "outputs": [],
   "source": [
    "# Perform KNN on train set with noise\n",
    "X_train_noise, knn_imputers = knn_impute_data(X_train_w_noise)\n",
    "\n",
    "X_train_knn, minmax_knn_imputers =  knn_impute_data(X_train_minmax)\n"
   ]
  },
  {
   "cell_type": "code",
   "execution_count": null,
   "metadata": {},
   "outputs": [],
   "source": [
    "processed_X_train_minmax = np.where(np.isnan(X_train_minmax), 0, X_train_minmax)\n",
    "processed_X_test_minmax = np.where(np.isnan(X_test_minmax), 0, X_test_minmax)"
   ]
  },
  {
   "cell_type": "code",
   "execution_count": null,
   "metadata": {},
   "outputs": [],
   "source": [
    "# Fit LSTM autoencoder accounting for missing data\n",
    "\n",
    "lstm_ae_instance = lstm_ae(learning_rate=1e-3, sequence_length=48, n_features=48)\n",
    "lstm_ae_model = lstm_ae_instance.get_lstm_ae()\n",
    "\n",
    "es = EarlyStopping(patience=10, verbose=1, min_delta=0.001, monitor='val_loss', mode='auto', restore_best_weights=True)\n",
    "lstm_ae_model.fit(x=X_train_noise, y=X_train_knn, batch_size=1,\n",
    "                  validation_split=0.2, epochs=100, shuffle=False, callbacks=[es])\n",
    "\n"
   ]
  },
  {
   "cell_type": "code",
   "execution_count": null,
   "metadata": {
    "colab": {
     "base_uri": "https://localhost:8080/"
    },
    "id": "LTmlJN7d-p9u",
    "outputId": "f3b2b81b-19b8-4d63-83cc-c6d0f22171a2"
   },
   "outputs": [],
   "source": [
    "all_eval(X_test_minmax, X_test_minmax, scalers, train_minmax_scalers, trained_cnn_vae_model, trained_lstm_vae_model, 1,\n",
    "         miss_forest_imputer, train_feature_means_minmax, knn_imputers, lstm_ae_model,  0.1)"
   ]
  },
  {
   "cell_type": "code",
   "execution_count": null,
   "metadata": {
    "colab": {
     "base_uri": "https://localhost:8080/"
    },
    "id": "hS5hfoZcC9sF",
    "outputId": "3e7b2d5b-f8c2-46fc-b5cd-c7a5217e5070"
   },
   "outputs": [],
   "source": [
    "all_eval(X_test_minmax, X_test_minmax, scalers, train_minmax_scalers, trained_cnn_vae_model, trained_lstm_vae_model, 1,\n",
    "         miss_forest_imputer, train_feature_means, knn_imputers, lstm_ae_model,  0.2)"
   ]
  },
  {
   "cell_type": "code",
   "execution_count": null,
   "metadata": {
    "colab": {
     "base_uri": "https://localhost:8080/"
    },
    "id": "ObW2y6E5C_kG",
    "outputId": "3c15230e-6cc4-4239-be5c-128ba152bc29"
   },
   "outputs": [],
   "source": [
    "all_eval(X_test_minmax, X_test_minmax, scalers, train_minmax_scalers, trained_cnn_vae_model, trained_lstm_vae_model, 1,\n",
    "         miss_forest_imputer, train_feature_means, knn_imputers, lstm_ae_model, 0.3)"
   ]
  },
  {
   "cell_type": "code",
   "execution_count": null,
   "metadata": {
    "colab": {
     "base_uri": "https://localhost:8080/"
    },
    "id": "UNzfgb0bDAc5",
    "outputId": "a9ca29f0-0625-48dd-bb47-4c4ee137e9cd"
   },
   "outputs": [],
   "source": [
    "all_eval(X_test_minmax, X_test_minmax, scalers, train_minmax_scalers,trained_cnn_vae_model, trained_lstm_vae_model, 1,\n",
    "         miss_forest_imputer, train_feature_means, knn_imputers, lstm_ae_model,  0.4)"
   ]
  },
  {
   "cell_type": "code",
   "execution_count": null,
   "metadata": {
    "colab": {
     "base_uri": "https://localhost:8080/"
    },
    "id": "rKcZ8Q6FDBmk",
    "outputId": "18f92f6f-9eaf-4b8f-9975-86a7b71f2e9e"
   },
   "outputs": [],
   "source": [
    "all_eval(X_test_minmax, X_test_minmax, scalers, train_minmax_scalers, trained_cnn_vae_model, trained_lstm_vae_model, 1, \n",
    "         miss_forest_imputer, train_feature_means, knn_imputers, lstm_ae_model,  0.5)"
   ]
  },
  {
   "cell_type": "code",
   "execution_count": null,
   "metadata": {
    "colab": {
     "base_uri": "https://localhost:8080/"
    },
    "id": "xiWVG7PUDDI_",
    "outputId": "1016a9c3-2997-4db4-9685-d91c3ff3537c"
   },
   "outputs": [],
   "source": [
    "all_eval(X_test_minmax, X_test_minmax, scalers, train_minmax_scalers, trained_cnn_vae_model, trained_lstm_vae_model, 1, \n",
    "         miss_forest_imputer, train_feature_means, knn_imputers, lstm_ae_model,  0.6)"
   ]
  },
  {
   "cell_type": "code",
   "execution_count": null,
   "metadata": {
    "colab": {
     "base_uri": "https://localhost:8080/"
    },
    "id": "x3RJCVgMDFBy",
    "outputId": "758174ce-3e1a-47da-bab0-c57a21bbc250"
   },
   "outputs": [],
   "source": [
    "all_eval(X_test_minmax, X_test_minmax, scalers, train_minmax_scalers, trained_cnn_vae_model, trained_lstm_vae_model, 1,\n",
    "         miss_forest_imputer, train_feature_means, knn_imputers, lstm_ae_model,  0.7)"
   ]
  },
  {
   "cell_type": "code",
   "execution_count": null,
   "metadata": {
    "colab": {
     "base_uri": "https://localhost:8080/"
    },
    "id": "HUmHatKjGf8Z",
    "outputId": "00dc2fee-201a-49ea-aafc-bdf4e5d96c9a"
   },
   "outputs": [],
   "source": [
    "all_eval(X_test_minmax, X_test_minmax, scalers, train_minmax_scalers, trained_cnn_vae_model, trained_lstm_vae_model, 1, \n",
    "         miss_forest_imputer, train_feature_means, knn_imputers, lstm_ae_model,  0.8)"
   ]
  },
  {
   "cell_type": "code",
   "execution_count": null,
   "metadata": {},
   "outputs": [],
   "source": []
  },
  {
   "cell_type": "code",
   "execution_count": null,
   "metadata": {},
   "outputs": [],
   "source": [
    "all_eval_v2(X_test_minmax, X_test_minmax, scalers, train_minmax_scalers, trained_cnn_vae_model, trained_lstm_vae_model, 1, \n",
    "            miss_forest_imputer, train_feature_means, knn_imputers, lstm_ae_model,\n",
    "            np.sqrt(0.1))"
   ]
  },
  {
   "cell_type": "code",
   "execution_count": null,
   "metadata": {},
   "outputs": [],
   "source": [
    "all_eval_v2(X_test_minmax, X_test_minmax, scalers, train_minmax_scalers, trained_cnn_vae_model, trained_lstm_vae_model, 1,\n",
    "            miss_forest_imputer, train_feature_means, knn_imputers, lstm_ae_model,\n",
    "            np.sqrt(0.2))"
   ]
  },
  {
   "cell_type": "code",
   "execution_count": null,
   "metadata": {},
   "outputs": [],
   "source": [
    "all_eval_v2(X_test_minmax, X_test_minmax, scalers, train_minmax_scalers, trained_cnn_vae_model, trained_lstm_vae_model, 1, miss_forest_imputer, train_feature_means, knn_imputers, lstm_ae_model,\n",
    "            np.sqrt(0.3))"
   ]
  },
  {
   "cell_type": "code",
   "execution_count": null,
   "metadata": {},
   "outputs": [],
   "source": [
    "all_eval_v2(X_test_minmax, X_test_minmax, scalers, train_minmax_scalers, trained_cnn_vae_model, trained_lstm_vae_model, 1, \n",
    "            miss_forest_imputer, train_feature_means, knn_imputers, lstm_ae_model,\n",
    "            np.sqrt(0.4))"
   ]
  },
  {
   "cell_type": "code",
   "execution_count": null,
   "metadata": {},
   "outputs": [],
   "source": [
    "all_eval_v2(X_test_minmax, X_test_minmax, scalers, train_minmax_scalers, trained_cnn_vae_model, trained_lstm_vae_model, 1,\n",
    "            miss_forest_imputer, train_feature_means, knn_imputers, lstm_ae_model,\n",
    "            np.sqrt(0.5))"
   ]
  },
  {
   "cell_type": "code",
   "execution_count": null,
   "metadata": {},
   "outputs": [],
   "source": [
    "all_eval_v2(X_test_minmax, X_test_minmax, scalers, train_minmax_scalers, trained_cnn_vae_model, trained_lstm_vae_model, 1, \n",
    "            miss_forest_imputer, train_feature_means, knn_imputers, lstm_ae_model,\n",
    "            np.sqrt(0.6))"
   ]
  },
  {
   "cell_type": "code",
   "execution_count": null,
   "metadata": {},
   "outputs": [],
   "source": [
    "all_eval_v2(X_test_minmax, X_test_minmax, scalers, train_minmax_scalers, trained_cnn_vae_model, trained_lstm_vae_model, 1,\n",
    "            miss_forest_imputer, train_feature_means, knn_imputers, lstm_ae_model, \n",
    "            np.sqrt(0.7))"
   ]
  },
  {
   "cell_type": "code",
   "execution_count": null,
   "metadata": {},
   "outputs": [],
   "source": [
    "all_eval_v2(X_test_minmax, X_test_minmax, scalers, train_minmax_scalers, trained_cnn_vae_model, trained_lstm_vae_model, 1,\n",
    "            miss_forest_imputer, train_feature_means, knn_imputers, lstm_ae_model, \n",
    "            np.sqrt(0.8))"
   ]
  },
  {
   "cell_type": "code",
   "execution_count": null,
   "metadata": {},
   "outputs": [],
   "source": [
    "\n",
    "X_test_knn = knn_impute_data_w_trained(X_test_minmax, knn_imputers)"
   ]
  },
  {
   "cell_type": "code",
   "execution_count": null,
   "metadata": {},
   "outputs": [],
   "source": [
    "lstm_ae_reconstruc_train = lstm_ae_model.predict([X_train_noise, processed_X_train_minmax, train_mask], batch_size=1)"
   ]
  },
  {
   "cell_type": "code",
   "execution_count": null,
   "metadata": {},
   "outputs": [],
   "source": [
    "a = 1\n",
    "b = 0\n",
    "\n",
    "plt.figure(figsize=(9,5))\n",
    "plt.plot(cnn_reconstruc_train[a][:,b], label='cnn reconstruction', c='red')\n",
    "plt.plot(lstm_reconstruc_train[a][:,b], label='lstm reconstruction', c='green')\n",
    "plt.plot(lstm_ae_reconstruc_train[a][:,b], label='dynimp reconstruction', c='purple')\n",
    "plt.plot(processed_X_train_minmax[a][:,b], c='blue', label='original', alpha=0.6)\n",
    "plt.legend()"
   ]
  },
  {
   "cell_type": "code",
   "execution_count": null,
   "metadata": {},
   "outputs": [],
   "source": [
    "lstm_ae_reconstruc_test = lstm_ae_model.predict([X_test_knn, processed_X_test_minmax, test_mask], batch_size=1)"
   ]
  },
  {
   "cell_type": "code",
   "execution_count": null,
   "metadata": {
    "colab": {
     "base_uri": "https://localhost:8080/",
     "height": 338
    },
    "id": "ZZ7l1FCGkn69",
    "outputId": "d78d56b3-105f-4457-aa18-300f145e96c5"
   },
   "outputs": [],
   "source": [
    "a = 1\n",
    "b = 0\n",
    "\n",
    "plt.figure(figsize=(9,5))\n",
    "plt.plot(cnn_reconstruc_test[a][:,b], label='cnn reconstruction', c='red')\n",
    "plt.plot(lstm_reconstruc_test[a][:,b], label='lstm reconstruction', c='green')\n",
    "plt.plot(lstm_ae_reconstruc_test[a][:,b], label='dynimp reconstruction', c='purple')\n",
    "plt.plot(processed_X_test_minmax[a][:,b], c='blue', label='original', alpha=0.6)\n",
    "plt.legend()"
   ]
  },
  {
   "cell_type": "code",
   "execution_count": null,
   "metadata": {
    "id": "34MpHND8-p96"
   },
   "outputs": [],
   "source": []
  }
 ],
 "metadata": {
  "colab": {
   "collapsed_sections": [],
   "name": "Copy of mimic_iv_testing_all.ipynb",
   "provenance": []
  },
  "kernelspec": {
   "display_name": "Python 3 (ipykernel)",
   "language": "python",
   "name": "python3"
  },
  "language_info": {
   "codemirror_mode": {
    "name": "ipython",
    "version": 3
   },
   "file_extension": ".py",
   "mimetype": "text/x-python",
   "name": "python",
   "nbconvert_exporter": "python",
   "pygments_lexer": "ipython3",
   "version": "3.9.12"
  }
 },
 "nbformat": 4,
 "nbformat_minor": 4
}
